{
 "cells": [
  {
   "cell_type": "markdown",
   "id": "1dab2ce6",
   "metadata": {},
   "source": [
    "## Basic Dataset Preparation"
   ]
  },
  {
   "cell_type": "code",
   "execution_count": 1,
   "id": "9f20a8a9",
   "metadata": {},
   "outputs": [],
   "source": [
    "import os\n",
    "import pandas as pd\n",
    "from sklearn.model_selection import train_test_split"
   ]
  },
  {
   "cell_type": "code",
   "execution_count": 2,
   "id": "33234e59",
   "metadata": {},
   "outputs": [],
   "source": [
    "source_path = \"/home/navid/Projects/aivshuman/Dataset/\"\n",
    "dest_path = \"/media2/sadat/Sadat/aivshuman/dataset/\""
   ]
  },
  {
   "cell_type": "code",
   "execution_count": 49,
   "id": "598fca91",
   "metadata": {},
   "outputs": [
    {
     "name": "stdout",
     "output_type": "stream",
     "text": [
      "version is 7b, split is 1\n",
      "version is 7b, split is 2\n",
      "version is 7b, split is 3\n",
      "version is 13b, split is 1\n",
      "version is 13b, split is 2\n",
      "version is 13b, split is 3\n",
      "version is chatgpt, split is 1\n",
      "version is chatgpt, split is 2\n",
      "version is chatgpt, split is 3\n"
     ]
    }
   ],
   "source": [
    "versions = [\"7b\", \"13b\", \"chatgpt\"]\n",
    "for version in versions:\n",
    "    df = pd.read_pickle(source_path + "/complete1_" +version+ ".pcl")\n",
    "    for split in [1,2,3]:\n",
    "        train, test = train_test_split(df, test_size=.3, random_state=split)\n",
    "        train.to_pickle(dest_path + \"train_\" + \"split_\" + str(split) + \"_\" + version + \".pkl\")\n",
    "        test.to_pickle(dest_path + \"test_\" + \"split_\" + str(split) + \"_\" + version + \".pkl\")\n",
    "        print(f\"version is {version}, split is {split}\")"
   ]
  },
  {
   "cell_type": "code",
   "execution_count": 50,
   "id": "8194f621",
   "metadata": {},
   "outputs": [
    {
     "data": {
      "text/html": [
       "<div>\n",
       "<style scoped>\n",
       "    .dataframe tbody tr th:only-of-type {\n",
       "        vertical-align: middle;\n",
       "    }\n",
       "\n",
       "    .dataframe tbody tr th {\n",
       "        vertical-align: top;\n",
       "    }\n",
       "\n",
       "    .dataframe thead th {\n",
       "        text-align: right;\n",
       "    }\n",
       "</style>\n",
       "<table border=\"1\" class=\"dataframe\">\n",
       "  <thead>\n",
       "    <tr style=\"text-align: right;\">\n",
       "      <th></th>\n",
       "      <th>file</th>\n",
       "      <th>agency</th>\n",
       "      <th>author</th>\n",
       "      <th>title</th>\n",
       "      <th>main</th>\n",
       "      <th>words</th>\n",
       "      <th>topic</th>\n",
       "      <th>rephrase</th>\n",
       "      <th>expanded</th>\n",
       "      <th>summary</th>\n",
       "      <th>summary_expanded</th>\n",
       "    </tr>\n",
       "  </thead>\n",
       "  <tbody>\n",
       "    <tr>\n",
       "      <th>0</th>\n",
       "      <td>1696750375.html.json</td>\n",
       "      <td>cbsnews.com</td>\n",
       "      <td>[Blair Guild, Blair Guild Is A Politics Report...</td>\n",
       "      <td>Trump holds \"celebration of American flag\" in ...</td>\n",
       "      <td>Instead of holding a Super Bowl champion cerem...</td>\n",
       "      <td>368</td>\n",
       "      <td>sports</td>\n",
       "      <td>In a surprise move, President Trump canceled ...</td>\n",
       "      <td>Instead of holding a traditional Super Bowl c...</td>\n",
       "      <td>In a surprise move, President Trump rescinded...</td>\n",
       "      <td>In a stunning reversal, President Trump has r...</td>\n",
       "    </tr>\n",
       "    <tr>\n",
       "      <th>1</th>\n",
       "      <td>1696745900.html.json</td>\n",
       "      <td>apnews.com</td>\n",
       "      <td>[Nicole Winfield, Jim Gomez]</td>\n",
       "      <td>Pope observes usual Ash Wednesday customs in t...</td>\n",
       "      <td>VATICAN CITY (AP)  Pope Francis celebrated th...</td>\n",
       "      <td>688</td>\n",
       "      <td>[history, religion]</td>\n",
       "      <td>VATICAN CITY (AP)  Pope Francis observed Ash...</td>\n",
       "      <td>VATICAN CITY (AP)  Pope Francis celebrated t...</td>\n",
       "      <td>The Pope celebrated Ash Wednesday in Rome whi...</td>\n",
       "      <td>Title: Pope Celebrates Ash Wednesday Amid COV...</td>\n",
       "    </tr>\n",
       "    <tr>\n",
       "      <th>2</th>\n",
       "      <td>1696754982.html.json</td>\n",
       "      <td>theguardian.com</td>\n",
       "      <td>[Sarah Martin]</td>\n",
       "      <td>Jim Molan likely to face challenge by moderate...</td>\n",
       "      <td>Conservative Jim Molans expected return to th...</td>\n",
       "      <td>380</td>\n",
       "      <td>[politics, government]</td>\n",
       "      <td>Conservative Jim Molan's bid to return to the...</td>\n",
       "      <td>Conservative Jim Molan's Expected Return to t...</td>\n",
       "      <td>A challenge is expected to Jim Molan's return...</td>\n",
       "      <td>Title: Moderate Faction Challenges Molan's Re...</td>\n",
       "    </tr>\n",
       "    <tr>\n",
       "      <th>3</th>\n",
       "      <td>1696750489.html.json</td>\n",
       "      <td>theguardian.com</td>\n",
       "      <td>[Christopher Knaus, Michael Mcgowan]</td>\n",
       "      <td>Scott Morrison sworn in as Australia's 30th pr...</td>\n",
       "      <td>23 Aug 2018 17.52 EDT OK, this is significant....</td>\n",
       "      <td>1000</td>\n",
       "      <td>[politics, government]</td>\n",
       "      <td>In a dramatic turn of events, Ben Morton, a W...</td>\n",
       "      <td>As the political crisis in Australia deepens,...</td>\n",
       "      <td>The article reports on the ongoing leadership...</td>\n",
       "      <td>Title: Leadership Spill Crisis Engulfs Austra...</td>\n",
       "    </tr>\n",
       "    <tr>\n",
       "      <th>4</th>\n",
       "      <td>1696763224.html.json</td>\n",
       "      <td>reuters.com</td>\n",
       "      <td>[Tangi Salaün Ingrid Melander, Tangi Salaün, I...</td>\n",
       "      <td>French clergy sexually abused over 200,000 chi...</td>\n",
       "      <td>Summary Investigation finds estimated 216,000 ...</td>\n",
       "      <td>857</td>\n",
       "      <td>[history, religion]</td>\n",
       "      <td>In a shocking new report, it has been reveale...</td>\n",
       "      <td>Here is an extended and completed version of ...</td>\n",
       "      <td>The investigation found that over 200,000 chi...</td>\n",
       "      <td>Title: France's Catholic Church Sex Abuse Sca...</td>\n",
       "    </tr>\n",
       "  </tbody>\n",
       "</table>\n",
       "</div>"
      ],
      "text/plain": [
       "                   file           agency  \\\n",
       "0  1696750375.html.json      cbsnews.com   \n",
       "1  1696745900.html.json       apnews.com   \n",
       "2  1696754982.html.json  theguardian.com   \n",
       "3  1696750489.html.json  theguardian.com   \n",
       "4  1696763224.html.json      reuters.com   \n",
       "\n",
       "                                              author  \\\n",
       "0  [Blair Guild, Blair Guild Is A Politics Report...   \n",
       "1                       [Nicole Winfield, Jim Gomez]   \n",
       "2                                     [Sarah Martin]   \n",
       "3               [Christopher Knaus, Michael Mcgowan]   \n",
       "4  [Tangi Salaün Ingrid Melander, Tangi Salaün, I...   \n",
       "\n",
       "                                               title  \\\n",
       "0  Trump holds \"celebration of American flag\" in ...   \n",
       "1  Pope observes usual Ash Wednesday customs in t...   \n",
       "2  Jim Molan likely to face challenge by moderate...   \n",
       "3  Scott Morrison sworn in as Australia's 30th pr...   \n",
       "4  French clergy sexually abused over 200,000 chi...   \n",
       "\n",
       "                                                main words  \\\n",
       "0  Instead of holding a Super Bowl champion cerem...   368   \n",
       "1  VATICAN CITY (AP)  Pope Francis celebrated th...   688   \n",
       "2  Conservative Jim Molans expected return to th...   380   \n",
       "3  23 Aug 2018 17.52 EDT OK, this is significant....  1000   \n",
       "4  Summary Investigation finds estimated 216,000 ...   857   \n",
       "\n",
       "                    topic                                           rephrase  \\\n",
       "0                  sports   In a surprise move, President Trump canceled ...   \n",
       "1     [history, religion]   VATICAN CITY (AP)  Pope Francis observed Ash...   \n",
       "2  [politics, government]   Conservative Jim Molan's bid to return to the...   \n",
       "3  [politics, government]   In a dramatic turn of events, Ben Morton, a W...   \n",
       "4     [history, religion]   In a shocking new report, it has been reveale...   \n",
       "\n",
       "                                            expanded  \\\n",
       "0   Instead of holding a traditional Super Bowl c...   \n",
       "1   VATICAN CITY (AP)  Pope Francis celebrated t...   \n",
       "2   Conservative Jim Molan's Expected Return to t...   \n",
       "3   As the political crisis in Australia deepens,...   \n",
       "4   Here is an extended and completed version of ...   \n",
       "\n",
       "                                             summary  \\\n",
       "0   In a surprise move, President Trump rescinded...   \n",
       "1   The Pope celebrated Ash Wednesday in Rome whi...   \n",
       "2   A challenge is expected to Jim Molan's return...   \n",
       "3   The article reports on the ongoing leadership...   \n",
       "4   The investigation found that over 200,000 chi...   \n",
       "\n",
       "                                    summary_expanded  \n",
       "0   In a stunning reversal, President Trump has r...  \n",
       "1   Title: Pope Celebrates Ash Wednesday Amid COV...  \n",
       "2   Title: Moderate Faction Challenges Molan's Re...  \n",
       "3   Title: Leadership Spill Crisis Engulfs Austra...  \n",
       "4   Title: France's Catholic Church Sex Abuse Sca...  "
      ]
     },
     "execution_count": 50,
     "metadata": {},
     "output_type": "execute_result"
    }
   ],
   "source": [
    "df.head()"
   ]
  },
  {
   "cell_type": "markdown",
   "id": "d2729e9e",
   "metadata": {},
   "source": [
    "## Is there duplicates?"
   ]
  },
  {
   "cell_type": "code",
   "execution_count": 42,
   "id": "c678a0a5",
   "metadata": {},
   "outputs": [],
   "source": [
    "df = pd.read_pickle(source_path + \"/complete1_13b.pcl\")"
   ]
  },
  {
   "cell_type": "code",
   "execution_count": 43,
   "id": "0e1df754",
   "metadata": {},
   "outputs": [],
   "source": [
    "def check_duplicates(df, colname=\"main\"):\n",
    "    text = df[colname].tolist()\n",
    "    n=0\n",
    "    for i1, t1 in enumerate(text):\n",
    "        for i2, t2 in enumerate(text):\n",
    "            if t1==t2 and i1!=i2:\n",
    "                #print(i1, i2)\n",
    "                n += 1\n",
    "    print(f\"{colname} has {n} and {round(n*100/3000, 2)}% duplicates\")\n",
    "        "
   ]
  },
  {
   "cell_type": "code",
   "execution_count": 44,
   "id": "bcbe0224",
   "metadata": {},
   "outputs": [
    {
     "name": "stdout",
     "output_type": "stream",
     "text": [
      "main has 176 and 5.87% duplicates\n",
      "expanded has 0 and 0.0% duplicates\n",
      "summary_expanded has 0 and 0.0% duplicates\n"
     ]
    }
   ],
   "source": [
    "check_duplicates(df, \"main\")\n",
    "check_duplicates(df, \"expanded\")\n",
    "check_duplicates(df, \"summary_expanded\")"
   ]
  },
  {
   "cell_type": "code",
   "execution_count": 31,
   "id": "68ae8f1b",
   "metadata": {},
   "outputs": [
    {
     "data": {
      "text/plain": [
       "176"
      ]
     },
     "execution_count": 31,
     "metadata": {},
     "output_type": "execute_result"
    }
   ],
   "source": [
    "main_n"
   ]
  },
  {
   "cell_type": "code",
   "execution_count": null,
   "id": "3c70f9f2",
   "metadata": {},
   "outputs": [],
   "source": []
  },
  {
   "cell_type": "code",
   "execution_count": null,
   "id": "41d41d7a",
   "metadata": {},
   "outputs": [],
   "source": []
  }
 ],
 "metadata": {
  "kernelspec": {
   "display_name": "Python 3 (ipykernel)",
   "language": "python",
   "name": "python3"
  },
  "language_info": {
   "codemirror_mode": {
    "name": "ipython",
    "version": 3
   },
   "file_extension": ".py",
   "mimetype": "text/x-python",
   "name": "python",
   "nbconvert_exporter": "python",
   "pygments_lexer": "ipython3",
   "version": "3.8.10"
  }
 },
 "nbformat": 4,
 "nbformat_minor": 5
}
